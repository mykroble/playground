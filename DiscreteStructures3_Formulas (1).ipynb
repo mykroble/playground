{
 "cells": [
  {
   "cell_type": "markdown",
   "id": "af059045",
   "metadata": {},
   "source": [
    "\n",
    "<div style=\"text-align: center; font-size: 20px; line-height: 2.0;\">\n",
    "\n",
    "**University of San Carlos - Talamban Campus**  \n",
    "Sitio Nasipit, Brgy, Cebu City  \n",
    "\n",
    "**Application of Matrices in the Searching Algorithm of Search Engines**  \n",
    "*A Written Report for*  \n",
    "**CS 3101N Discrete Structures III**  \n",
    "\n",
    "---\n",
    "\n",
    "**Submitted by:**  \n",
    "Roble, Myk Erolf D.  \n",
    "\n",
    "**Submitted to:**  \n",
    "Katrina B. Fuentes, Ph.D.  \n",
    "*Course Instructor*  \n",
    "\n",
    "---\n",
    "\n",
    "**Class Schedule:**  \n",
    "1 CS 3101N MW  \n",
    "1:30 pm to 3:00 pm  \n",
    "\n",
    "</div>\n"
   ]
  },
  {
   "cell_type": "code",
   "execution_count": 46,
   "id": "f762279a",
   "metadata": {},
   "outputs": [
    {
     "name": "stdout",
     "output_type": "stream",
     "text": [
      "Adjacency matrix with numbers saved as adjacency_matrix_with_numbers.png\n"
     ]
    },
    {
     "data": {
      "image/png": "[encoded data removed]",
      "text/plain": [
       "<Figure size 600x600 with 1 Axes>"
      ]
     },
     "metadata": {},
     "output_type": "display_data"
    }
   ],
   "source": [
    "import matplotlib.pyplot as plt\n",
    "import networkx as nx\n",
    "import numpy as np\n",
    "\n",
    "# Create a directed graph\n",
    "G = nx.DiGraph()\n",
    "\n",
    "# Add nodes for websites A, B, C\n",
    "G.add_nodes_from(['A', 'B', 'C'])\n",
    "\n",
    "# Add edges based on the links between websites\n",
    "# From the transcript: A -> B (5 links), A -> C (2 links), B -> C (1 link), C -> A (3 links), C -> B (10 links)\n",
    "G.add_edges_from([('A', 'B'), ('A', 'C'), ('B', 'C'), ('C', 'A'), ('C', 'B')])\n",
    "\n",
    "# Manually set the link counts for the edges\n",
    "link_counts = {\n",
    "    ('A', 'B'): 5, \n",
    "    ('A', 'C'): 2,\n",
    "    ('B', 'C'): 1,\n",
    "    ('C', 'A'): 3,\n",
    "    ('C', 'B'): 10\n",
    "}\n",
    "\n",
    "# Create adjacency matrix initialized with zeros\n",
    "nodes = ['A', 'B', 'C']\n",
    "adj_matrix = np.zeros((len(nodes), len(nodes)))\n",
    "\n",
    "# Fill the adjacency matrix with link counts\n",
    "for (start, end), count in link_counts.items():\n",
    "    start_idx = nodes.index(start)\n",
    "    end_idx = nodes.index(end)\n",
    "    adj_matrix[start_idx][end_idx] = count\n",
    "\n",
    "# Plot the adjacency matrix with numbers instead of colors\n",
    "plt.figure(figsize=(6, 6))\n",
    "plt.imshow(adj_matrix, cmap='Blues', interpolation='nearest')\n",
    "\n",
    "# Add numbers on top of each cell in the matrix\n",
    "for i in range(len(nodes)):\n",
    "    for j in range(len(nodes)):\n",
    "        plt.text(j, i, str(int(adj_matrix[i, j])), ha='center', va='center', color='black', fontsize=16)\n",
    "\n",
    "# Set the ticks and labels\n",
    "plt.xticks(np.arange(len(nodes)), nodes)\n",
    "plt.yticks(np.arange(len(nodes)), nodes)\n",
    "\n",
    "# Add labels and title\n",
    "plt.title(\"Adjacency Matrix of Websites A, B, C\", fontsize=16)\n",
    "plt.xlabel(\"To\", fontsize=12)\n",
    "plt.ylabel(\"From\", fontsize=12)\n",
    "\n",
    "# Save the adjacency matrix as an image\n",
    "plt.tight_layout()\n",
    "plt.savefig(\"adjacency_matrix_with_numbers.png\", dpi=300)\n",
    "\n",
    "# Display the image path\n",
    "print(\"Adjacency matrix with numbers saved as adjacency_matrix_with_numbers.png\")"
   ]
  },
  {
   "cell_type": "markdown",
   "id": "b048a5e8",
   "metadata": {},
   "source": [
    "<div style=\"text-align: justified; font-size: 20px; line-height: 2.0;\">\n",
    "Consider the network of webpages A, B, and C. Initially, assume each webpage has an importance value of 0.25. Webpage A has a total of 8 outgoing links, so the contribution from A is evenly distributed among these links, with each link passing  $\\frac{A}{8} $ of its importance to the pages it points to. For example, 5 of A’s links point to webpage B. If B has an initial importance value  Y , then its total importance is determined by the contributions it receives: 5 links from A, each contributing $ \\frac{A}{8} $, and 10 links from C, each contributing  $\\frac{C}{13}$ , since C has 13 outgoing links. Therefore, the final importance of B is calculated as:\n",
    "\n",
    "\n",
    "$B = Y + 5 \\times \\frac{A}{8} + 10 \\times \\frac{C}{13}.$\n",
    "\n",
    "\n",
    "Similarly, for webpage C, the total incoming links include 3 links from A, contributing $ \\frac{A}{8} $, and 10 links from B, contributing $ \\frac{B}{10} $, since B has 10 outgoing links. If C has an initial importance value  Z , its final importance is given by:\n",
    "\n",
    "\n",
    "$C = Z + 3 \\times \\frac{A}{8} + 10 \\times \\frac{B}{10}.$\n",
    "\n",
    "</div><hr style=\"height: 2px;\">"
   ]
  },
  {
   "cell_type": "markdown",
   "id": "b8e596e2",
   "metadata": {},
   "source": [
    "$\n",
    "T =\n",
    "\\begin{bmatrix}\n",
    "0 & 0 & \\frac{3}{13} \\\\\n",
    "\\frac{5}{8} & 0 & \\frac{10}{13} \\\\\n",
    "\\frac{3}{8} & 1 & 0\n",
    "\\end{bmatrix}\n",
    "$"
   ]
  },
  {
   "cell_type": "markdown",
   "id": "32d145b4",
   "metadata": {},
   "source": [
    "$  A = X + 3 \\times \\frac{C}{13}$"
   ]
  },
  {
   "cell_type": "markdown",
   "id": "b653db7c",
   "metadata": {},
   "source": [
    "\n",
    "To construct the transition matrix for the system of equations:<br>\n",
    "\t1.\tA = X +  $3 \\times \\frac{C}{3} $<br>\n",
    "\t2.\t$B = Y +  5 \\times \\frac{A}{8}  +  10 \\times \\frac{C}{13} $<br>\n",
    "\t3.\t$C = Z +  3 \\times \\frac{A}{8}  +  10 \\times \\frac{B}{10} $\n",
    "    <hr style=\"height: 2px;\">"
   ]
  },
  {
   "cell_type": "markdown",
   "id": "116ec38a",
   "metadata": {},
   "source": [
    "<div style=\"text-align: center; font-size: 20px; line-height: 2.0;\">\n",
    "R<sub>1</sub>= $\n",
    "\\begin{bmatrix}\n",
    "\\frac{1}{3} \\\\\n",
    "\\frac{1}{3} \\\\\n",
    "\\frac{1}{3}\n",
    "\\end{bmatrix}\n",
    "$"
   ]
  },
  {
   "cell_type": "markdown",
   "id": "e9b65f50",
   "metadata": {},
   "source": [
    "<div style=\"text-align: center; font-size: 20px; line-height: 2.0;\">R<sub>2</sub> = $\\begin{bmatrix}\n",
    "\\frac{1}{13} \\\\\n",
    "\\frac{145}{312} \\\\\n",
    "\\frac{10}{21}\n",
    "\\end{bmatrix}\n",
    "$\n"
   ]
  },
  {
   "cell_type": "markdown",
   "id": "4200fe45",
   "metadata": {},
   "source": [
    "<div style=\"text-align: center; font-size: 20px; line-height: 2.0;\">R<sub>3</sub> = $\\begin{bmatrix}\n",
    "\\frac{10}{91} \\\\\n",
    "\\frac{905}{2184} \\\\\n",
    "\\frac{77}{156}\n",
    "\\end{bmatrix}\n",
    "$\n"
   ]
  },
  {
   "cell_type": "markdown",
   "id": "bb7d82c7",
   "metadata": {},
   "source": [
    "<div style=\"text-align: center; font-size: 20px; line-height: 2.0;\">R<sub>4</sub> = $\\begin{bmatrix}\n",
    "\\frac{77}{676} \\\\\n",
    "\\frac{6365}{14196} \\\\\n",
    "\\frac{995}{2184}\n",
    "\\end{bmatrix}\n",
    "$\n",
    "    <hr style=\"height: 2px;\">"
   ]
  },
  {
   "cell_type": "markdown",
   "id": "dcb27baa",
   "metadata": {},
   "source": [
    "<div style=\"font-size: 20px; line-height: 2.0;\">\n",
    "Let  N  represent the total number of webpages. For a general webpage  i , the PageRank is given as:\n",
    "<br>\n",
    "\n",
    "$R_i = X_i + \\sum_{j=1}^N T_{ij} R_j$<br>\n",
    "\n",
    "\n",
    "Where:<br>\n",
    "$T_{ij}$  represents the fraction of importance that webpage  j  contributes to webpage  i  through its outgoing links.<br>\n",
    "$R_j$  is the rank (importance) of webpage  j .<br>\n",
    "$X_i$  is the base value (if applicable).<hr style=\"height: 2px;\">"
   ]
  },
  {
   "cell_type": "markdown",
   "id": "d63bc436",
   "metadata": {},
   "source": [
    "<div style=\"font-size: 20px; line-height: 2.0;\">To find the Rank, the equations in summation notation are:<br>\n",
    "\n",
    "$R_i = X_i + \\sum_{j \\in \\mathcal{I}i} T{ij} R_j$\n",
    "\n",
    "\n",
    "Explanation of the Components:<br>\n",
    "\t\t $R_i $: PageRank of webpage  i .<br>\n",
    "\t\t $X_i $: Base value (if applicable) for webpage  i .<br>\n",
    "\t\t $T_{ij}$ : The element in the transition matrix  T  indicating the contribution from webpage  j  to  i .<br>\n",
    "\t\t $\\mathcal{I}_i$ : The set of webpages  j  that have outgoing links to webpage  i  (incoming links for  i ).<br>\n",
    "\n",
    "Substitute the values from the transition matrix  T :\n",
    "\n",
    "$$\n",
    "T =\n",
    "\\begin{bmatrix}\n",
    "0 & 0 & \\frac{3}{13} \\\\\n",
    "\\frac{5}{8} & 0 & \\frac{10}{13} \\\\\n",
    "\\frac{3}{8} & 1 & 0\n",
    "\\end{bmatrix}$$\n",
    "<hr style=\"height: 2px;\">"
   ]
  },
  {
   "cell_type": "markdown",
   "id": "8904f2ba",
   "metadata": {},
   "source": [
    "<div style=\"font-size: 20px; line-height: 2.0;\">Iterative Solving:\n",
    "\n",
    "To find the vector  $\\mathbf{R} $, solve the following equation iteratively:\n",
    "\n",
    "\n",
    "$\\mathbf{R} = T \\mathbf{R}$\n",
    "<hr style=\"height: 2px;\">"
   ]
  }
 ],
 "metadata": {
  "kernelspec": {
   "display_name": "Python 3 (ipykernel)",
   "language": "python",
   "name": "python3"
  },
  "language_info": {
   "codemirror_mode": {
    "name": "ipython",
    "version": 3
   },
   "file_extension": ".py",
   "mimetype": "text/x-python",
   "name": "python",
   "nbconvert_exporter": "python",
   "pygments_lexer": "ipython3",
   "version": "3.11.7"
  }
 },
 "nbformat": 4,
 "nbformat_minor": 5
}
